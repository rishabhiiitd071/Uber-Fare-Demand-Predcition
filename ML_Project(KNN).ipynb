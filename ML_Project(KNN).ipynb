{
  "nbformat": 4,
  "nbformat_minor": 0,
  "metadata": {
    "colab": {
      "name": "ML-Project(KNN).ipynb",
      "provenance": [],
      "collapsed_sections": []
    },
    "kernelspec": {
      "name": "python3",
      "display_name": "Python 3"
    },
    "language_info": {
      "name": "python"
    }
  },
  "cells": [
    {
      "cell_type": "code",
      "metadata": {
        "colab": {
          "base_uri": "https://localhost:8080/"
        },
        "id": "u2E-qpvpLHmB",
        "outputId": "ceb77516-bb02-4226-b457-c4a93027e345"
      },
      "source": [
        "from google.colab import drive\n",
        "drive.mount('/content/drive')"
      ],
      "execution_count": null,
      "outputs": [
        {
          "output_type": "stream",
          "name": "stdout",
          "text": [
            "Mounted at /content/drive\n"
          ]
        }
      ]
    },
    {
      "cell_type": "code",
      "metadata": {
        "id": "X3pRRo61MMqR"
      },
      "source": [
        "import os\n",
        "import pandas as pd\n",
        "import numpy as np\n",
        "import matplotlib.pyplot as plt\n",
        "import seaborn as sns\n",
        "from sklearn.metrics import accuracy_score\n",
        "import joblib"
      ],
      "execution_count": null,
      "outputs": []
    },
    {
      "cell_type": "code",
      "metadata": {
        "id": "DOY--3EBMaFr"
      },
      "source": [
        "ride_share_df = pd.read_csv(\"/content/drive/MyDrive/ML Project/rideshare_kaggle.csv\")"
      ],
      "execution_count": null,
      "outputs": []
    },
    {
      "cell_type": "code",
      "metadata": {
        "colab": {
          "base_uri": "https://localhost:8080/",
          "height": 486
        },
        "id": "KHDFL9s8MfWV",
        "outputId": "eca61b65-5557-4cae-e99a-7fe894be8eea"
      },
      "source": [
        "ride_share_df.head()"
      ],
      "execution_count": null,
      "outputs": [
        {
          "output_type": "execute_result",
          "data": {
            "text/html": [
              "<div>\n",
              "<style scoped>\n",
              "    .dataframe tbody tr th:only-of-type {\n",
              "        vertical-align: middle;\n",
              "    }\n",
              "\n",
              "    .dataframe tbody tr th {\n",
              "        vertical-align: top;\n",
              "    }\n",
              "\n",
              "    .dataframe thead th {\n",
              "        text-align: right;\n",
              "    }\n",
              "</style>\n",
              "<table border=\"1\" class=\"dataframe\">\n",
              "  <thead>\n",
              "    <tr style=\"text-align: right;\">\n",
              "      <th></th>\n",
              "      <th>id</th>\n",
              "      <th>timestamp</th>\n",
              "      <th>hour</th>\n",
              "      <th>day</th>\n",
              "      <th>month</th>\n",
              "      <th>datetime</th>\n",
              "      <th>timezone</th>\n",
              "      <th>source</th>\n",
              "      <th>destination</th>\n",
              "      <th>cab_type</th>\n",
              "      <th>product_id</th>\n",
              "      <th>name</th>\n",
              "      <th>price</th>\n",
              "      <th>distance</th>\n",
              "      <th>surge_multiplier</th>\n",
              "      <th>latitude</th>\n",
              "      <th>longitude</th>\n",
              "      <th>temperature</th>\n",
              "      <th>apparentTemperature</th>\n",
              "      <th>short_summary</th>\n",
              "      <th>long_summary</th>\n",
              "      <th>precipIntensity</th>\n",
              "      <th>precipProbability</th>\n",
              "      <th>humidity</th>\n",
              "      <th>windSpeed</th>\n",
              "      <th>windGust</th>\n",
              "      <th>windGustTime</th>\n",
              "      <th>visibility</th>\n",
              "      <th>temperatureHigh</th>\n",
              "      <th>temperatureHighTime</th>\n",
              "      <th>temperatureLow</th>\n",
              "      <th>temperatureLowTime</th>\n",
              "      <th>apparentTemperatureHigh</th>\n",
              "      <th>apparentTemperatureHighTime</th>\n",
              "      <th>apparentTemperatureLow</th>\n",
              "      <th>apparentTemperatureLowTime</th>\n",
              "      <th>icon</th>\n",
              "      <th>dewPoint</th>\n",
              "      <th>pressure</th>\n",
              "      <th>windBearing</th>\n",
              "      <th>cloudCover</th>\n",
              "      <th>uvIndex</th>\n",
              "      <th>visibility.1</th>\n",
              "      <th>ozone</th>\n",
              "      <th>sunriseTime</th>\n",
              "      <th>sunsetTime</th>\n",
              "      <th>moonPhase</th>\n",
              "      <th>precipIntensityMax</th>\n",
              "      <th>uvIndexTime</th>\n",
              "      <th>temperatureMin</th>\n",
              "      <th>temperatureMinTime</th>\n",
              "      <th>temperatureMax</th>\n",
              "      <th>temperatureMaxTime</th>\n",
              "      <th>apparentTemperatureMin</th>\n",
              "      <th>apparentTemperatureMinTime</th>\n",
              "      <th>apparentTemperatureMax</th>\n",
              "      <th>apparentTemperatureMaxTime</th>\n",
              "    </tr>\n",
              "  </thead>\n",
              "  <tbody>\n",
              "    <tr>\n",
              "      <th>0</th>\n",
              "      <td>424553bb-7174-41ea-aeb4-fe06d4f4b9d7</td>\n",
              "      <td>1.544953e+09</td>\n",
              "      <td>9</td>\n",
              "      <td>16</td>\n",
              "      <td>12</td>\n",
              "      <td>2018-12-16 09:30:07</td>\n",
              "      <td>America/New_York</td>\n",
              "      <td>Haymarket Square</td>\n",
              "      <td>North Station</td>\n",
              "      <td>Lyft</td>\n",
              "      <td>lyft_line</td>\n",
              "      <td>Shared</td>\n",
              "      <td>5.0</td>\n",
              "      <td>0.44</td>\n",
              "      <td>1.0</td>\n",
              "      <td>42.2148</td>\n",
              "      <td>-71.033</td>\n",
              "      <td>42.34</td>\n",
              "      <td>37.12</td>\n",
              "      <td>Mostly Cloudy</td>\n",
              "      <td>Rain throughout the day.</td>\n",
              "      <td>0.0000</td>\n",
              "      <td>0.0</td>\n",
              "      <td>0.68</td>\n",
              "      <td>8.66</td>\n",
              "      <td>9.17</td>\n",
              "      <td>1545015600</td>\n",
              "      <td>10.000</td>\n",
              "      <td>43.68</td>\n",
              "      <td>1544968800</td>\n",
              "      <td>34.19</td>\n",
              "      <td>1545048000</td>\n",
              "      <td>37.95</td>\n",
              "      <td>1544968800</td>\n",
              "      <td>27.39</td>\n",
              "      <td>1545044400</td>\n",
              "      <td>partly-cloudy-night</td>\n",
              "      <td>32.70</td>\n",
              "      <td>1021.98</td>\n",
              "      <td>57</td>\n",
              "      <td>0.72</td>\n",
              "      <td>0</td>\n",
              "      <td>10.000</td>\n",
              "      <td>303.8</td>\n",
              "      <td>1544962084</td>\n",
              "      <td>1544994864</td>\n",
              "      <td>0.30</td>\n",
              "      <td>0.1276</td>\n",
              "      <td>1544979600</td>\n",
              "      <td>39.89</td>\n",
              "      <td>1545012000</td>\n",
              "      <td>43.68</td>\n",
              "      <td>1544968800</td>\n",
              "      <td>33.73</td>\n",
              "      <td>1545012000</td>\n",
              "      <td>38.07</td>\n",
              "      <td>1544958000</td>\n",
              "    </tr>\n",
              "    <tr>\n",
              "      <th>1</th>\n",
              "      <td>4bd23055-6827-41c6-b23b-3c491f24e74d</td>\n",
              "      <td>1.543284e+09</td>\n",
              "      <td>2</td>\n",
              "      <td>27</td>\n",
              "      <td>11</td>\n",
              "      <td>2018-11-27 02:00:23</td>\n",
              "      <td>America/New_York</td>\n",
              "      <td>Haymarket Square</td>\n",
              "      <td>North Station</td>\n",
              "      <td>Lyft</td>\n",
              "      <td>lyft_premier</td>\n",
              "      <td>Lux</td>\n",
              "      <td>11.0</td>\n",
              "      <td>0.44</td>\n",
              "      <td>1.0</td>\n",
              "      <td>42.2148</td>\n",
              "      <td>-71.033</td>\n",
              "      <td>43.58</td>\n",
              "      <td>37.35</td>\n",
              "      <td>Rain</td>\n",
              "      <td>Rain until morning, starting again in the eve...</td>\n",
              "      <td>0.1299</td>\n",
              "      <td>1.0</td>\n",
              "      <td>0.94</td>\n",
              "      <td>11.98</td>\n",
              "      <td>11.98</td>\n",
              "      <td>1543291200</td>\n",
              "      <td>4.786</td>\n",
              "      <td>47.30</td>\n",
              "      <td>1543251600</td>\n",
              "      <td>42.10</td>\n",
              "      <td>1543298400</td>\n",
              "      <td>43.92</td>\n",
              "      <td>1543251600</td>\n",
              "      <td>36.20</td>\n",
              "      <td>1543291200</td>\n",
              "      <td>rain</td>\n",
              "      <td>41.83</td>\n",
              "      <td>1003.97</td>\n",
              "      <td>90</td>\n",
              "      <td>1.00</td>\n",
              "      <td>0</td>\n",
              "      <td>4.786</td>\n",
              "      <td>291.1</td>\n",
              "      <td>1543232969</td>\n",
              "      <td>1543266992</td>\n",
              "      <td>0.64</td>\n",
              "      <td>0.1300</td>\n",
              "      <td>1543251600</td>\n",
              "      <td>40.49</td>\n",
              "      <td>1543233600</td>\n",
              "      <td>47.30</td>\n",
              "      <td>1543251600</td>\n",
              "      <td>36.20</td>\n",
              "      <td>1543291200</td>\n",
              "      <td>43.92</td>\n",
              "      <td>1543251600</td>\n",
              "    </tr>\n",
              "    <tr>\n",
              "      <th>2</th>\n",
              "      <td>981a3613-77af-4620-a42a-0c0866077d1e</td>\n",
              "      <td>1.543367e+09</td>\n",
              "      <td>1</td>\n",
              "      <td>28</td>\n",
              "      <td>11</td>\n",
              "      <td>2018-11-28 01:00:22</td>\n",
              "      <td>America/New_York</td>\n",
              "      <td>Haymarket Square</td>\n",
              "      <td>North Station</td>\n",
              "      <td>Lyft</td>\n",
              "      <td>lyft</td>\n",
              "      <td>Lyft</td>\n",
              "      <td>7.0</td>\n",
              "      <td>0.44</td>\n",
              "      <td>1.0</td>\n",
              "      <td>42.2148</td>\n",
              "      <td>-71.033</td>\n",
              "      <td>38.33</td>\n",
              "      <td>32.93</td>\n",
              "      <td>Clear</td>\n",
              "      <td>Light rain in the morning.</td>\n",
              "      <td>0.0000</td>\n",
              "      <td>0.0</td>\n",
              "      <td>0.75</td>\n",
              "      <td>7.33</td>\n",
              "      <td>7.33</td>\n",
              "      <td>1543334400</td>\n",
              "      <td>10.000</td>\n",
              "      <td>47.55</td>\n",
              "      <td>1543320000</td>\n",
              "      <td>33.10</td>\n",
              "      <td>1543402800</td>\n",
              "      <td>44.12</td>\n",
              "      <td>1543320000</td>\n",
              "      <td>29.11</td>\n",
              "      <td>1543392000</td>\n",
              "      <td>clear-night</td>\n",
              "      <td>31.10</td>\n",
              "      <td>992.28</td>\n",
              "      <td>240</td>\n",
              "      <td>0.03</td>\n",
              "      <td>0</td>\n",
              "      <td>10.000</td>\n",
              "      <td>315.7</td>\n",
              "      <td>1543319437</td>\n",
              "      <td>1543353364</td>\n",
              "      <td>0.68</td>\n",
              "      <td>0.1064</td>\n",
              "      <td>1543338000</td>\n",
              "      <td>35.36</td>\n",
              "      <td>1543377600</td>\n",
              "      <td>47.55</td>\n",
              "      <td>1543320000</td>\n",
              "      <td>31.04</td>\n",
              "      <td>1543377600</td>\n",
              "      <td>44.12</td>\n",
              "      <td>1543320000</td>\n",
              "    </tr>\n",
              "    <tr>\n",
              "      <th>3</th>\n",
              "      <td>c2d88af2-d278-4bfd-a8d0-29ca77cc5512</td>\n",
              "      <td>1.543554e+09</td>\n",
              "      <td>4</td>\n",
              "      <td>30</td>\n",
              "      <td>11</td>\n",
              "      <td>2018-11-30 04:53:02</td>\n",
              "      <td>America/New_York</td>\n",
              "      <td>Haymarket Square</td>\n",
              "      <td>North Station</td>\n",
              "      <td>Lyft</td>\n",
              "      <td>lyft_luxsuv</td>\n",
              "      <td>Lux Black XL</td>\n",
              "      <td>26.0</td>\n",
              "      <td>0.44</td>\n",
              "      <td>1.0</td>\n",
              "      <td>42.2148</td>\n",
              "      <td>-71.033</td>\n",
              "      <td>34.38</td>\n",
              "      <td>29.63</td>\n",
              "      <td>Clear</td>\n",
              "      <td>Partly cloudy throughout the day.</td>\n",
              "      <td>0.0000</td>\n",
              "      <td>0.0</td>\n",
              "      <td>0.73</td>\n",
              "      <td>5.28</td>\n",
              "      <td>5.28</td>\n",
              "      <td>1543514400</td>\n",
              "      <td>10.000</td>\n",
              "      <td>45.03</td>\n",
              "      <td>1543510800</td>\n",
              "      <td>28.90</td>\n",
              "      <td>1543579200</td>\n",
              "      <td>38.53</td>\n",
              "      <td>1543510800</td>\n",
              "      <td>26.20</td>\n",
              "      <td>1543575600</td>\n",
              "      <td>clear-night</td>\n",
              "      <td>26.64</td>\n",
              "      <td>1013.73</td>\n",
              "      <td>310</td>\n",
              "      <td>0.00</td>\n",
              "      <td>0</td>\n",
              "      <td>10.000</td>\n",
              "      <td>291.1</td>\n",
              "      <td>1543492370</td>\n",
              "      <td>1543526114</td>\n",
              "      <td>0.75</td>\n",
              "      <td>0.0000</td>\n",
              "      <td>1543507200</td>\n",
              "      <td>34.67</td>\n",
              "      <td>1543550400</td>\n",
              "      <td>45.03</td>\n",
              "      <td>1543510800</td>\n",
              "      <td>30.30</td>\n",
              "      <td>1543550400</td>\n",
              "      <td>38.53</td>\n",
              "      <td>1543510800</td>\n",
              "    </tr>\n",
              "    <tr>\n",
              "      <th>4</th>\n",
              "      <td>e0126e1f-8ca9-4f2e-82b3-50505a09db9a</td>\n",
              "      <td>1.543463e+09</td>\n",
              "      <td>3</td>\n",
              "      <td>29</td>\n",
              "      <td>11</td>\n",
              "      <td>2018-11-29 03:49:20</td>\n",
              "      <td>America/New_York</td>\n",
              "      <td>Haymarket Square</td>\n",
              "      <td>North Station</td>\n",
              "      <td>Lyft</td>\n",
              "      <td>lyft_plus</td>\n",
              "      <td>Lyft XL</td>\n",
              "      <td>9.0</td>\n",
              "      <td>0.44</td>\n",
              "      <td>1.0</td>\n",
              "      <td>42.2148</td>\n",
              "      <td>-71.033</td>\n",
              "      <td>37.44</td>\n",
              "      <td>30.88</td>\n",
              "      <td>Partly Cloudy</td>\n",
              "      <td>Mostly cloudy throughout the day.</td>\n",
              "      <td>0.0000</td>\n",
              "      <td>0.0</td>\n",
              "      <td>0.70</td>\n",
              "      <td>9.14</td>\n",
              "      <td>9.14</td>\n",
              "      <td>1543446000</td>\n",
              "      <td>10.000</td>\n",
              "      <td>42.18</td>\n",
              "      <td>1543420800</td>\n",
              "      <td>36.71</td>\n",
              "      <td>1543478400</td>\n",
              "      <td>35.75</td>\n",
              "      <td>1543420800</td>\n",
              "      <td>30.29</td>\n",
              "      <td>1543460400</td>\n",
              "      <td>partly-cloudy-night</td>\n",
              "      <td>28.61</td>\n",
              "      <td>998.36</td>\n",
              "      <td>303</td>\n",
              "      <td>0.44</td>\n",
              "      <td>0</td>\n",
              "      <td>10.000</td>\n",
              "      <td>347.7</td>\n",
              "      <td>1543405904</td>\n",
              "      <td>1543439738</td>\n",
              "      <td>0.72</td>\n",
              "      <td>0.0001</td>\n",
              "      <td>1543420800</td>\n",
              "      <td>33.10</td>\n",
              "      <td>1543402800</td>\n",
              "      <td>42.18</td>\n",
              "      <td>1543420800</td>\n",
              "      <td>29.11</td>\n",
              "      <td>1543392000</td>\n",
              "      <td>35.75</td>\n",
              "      <td>1543420800</td>\n",
              "    </tr>\n",
              "  </tbody>\n",
              "</table>\n",
              "</div>"
            ],
            "text/plain": [
              "                                     id  ...  apparentTemperatureMaxTime\n",
              "0  424553bb-7174-41ea-aeb4-fe06d4f4b9d7  ...                  1544958000\n",
              "1  4bd23055-6827-41c6-b23b-3c491f24e74d  ...                  1543251600\n",
              "2  981a3613-77af-4620-a42a-0c0866077d1e  ...                  1543320000\n",
              "3  c2d88af2-d278-4bfd-a8d0-29ca77cc5512  ...                  1543510800\n",
              "4  e0126e1f-8ca9-4f2e-82b3-50505a09db9a  ...                  1543420800\n",
              "\n",
              "[5 rows x 57 columns]"
            ]
          },
          "metadata": {},
          "execution_count": 19
        }
      ]
    },
    {
      "cell_type": "code",
      "metadata": {
        "id": "kI-XE65WMvn2"
      },
      "source": [
        "# ride_share_df.info()"
      ],
      "execution_count": null,
      "outputs": []
    },
    {
      "cell_type": "code",
      "metadata": {
        "id": "KY1NCaJFMy8h"
      },
      "source": [
        "# ride_share_df.describe()"
      ],
      "execution_count": null,
      "outputs": []
    },
    {
      "cell_type": "code",
      "metadata": {
        "colab": {
          "base_uri": "https://localhost:8080/"
        },
        "id": "2YVqx-_TOtZy",
        "outputId": "f33d71cc-617d-4753-f4fc-e9aa4378322b"
      },
      "source": [
        "ride_share_df.columns[ride_share_df.isnull().any()]"
      ],
      "execution_count": null,
      "outputs": [
        {
          "output_type": "execute_result",
          "data": {
            "text/plain": [
              "Index(['price'], dtype='object')"
            ]
          },
          "metadata": {},
          "execution_count": 20
        }
      ]
    },
    {
      "cell_type": "code",
      "metadata": {
        "id": "EGl6UIj-Ovzf"
      },
      "source": [
        "ride_share_df['price'] = ride_share_df['price'].fillna(ride_share_df['price'].mean())"
      ],
      "execution_count": null,
      "outputs": []
    },
    {
      "cell_type": "code",
      "metadata": {
        "colab": {
          "base_uri": "https://localhost:8080/"
        },
        "id": "5zfp0Wxq_tBy",
        "outputId": "b3b90aa3-6f7b-49dc-c036-1884628ab4f7"
      },
      "source": [
        "ride_share_df.source.unique()"
      ],
      "execution_count": null,
      "outputs": [
        {
          "output_type": "execute_result",
          "data": {
            "text/plain": [
              "array(['Haymarket Square', 'Back Bay', 'North End', 'North Station',\n",
              "       'Beacon Hill', 'Boston University', 'Fenway', 'South Station',\n",
              "       'Theatre District', 'West End', 'Financial District',\n",
              "       'Northeastern University'], dtype=object)"
            ]
          },
          "metadata": {},
          "execution_count": 22
        }
      ]
    },
    {
      "cell_type": "code",
      "metadata": {
        "id": "c3Zqu9Sn_2Fy"
      },
      "source": [
        "loc_coord = {'Haymarket Square' : [42.3628, -71.0583],\n",
        "             'North Station' : [42.3664, -71.0620],\n",
        "             'Northeastern University' : [42.3398, -71.0892],\n",
        "             'West End' : [42.4556, -75.0966],\n",
        "             'South Station' : [42.3519, -71.0552],\n",
        "             'Fenway' : [42.3519, -71.0552],\n",
        "             'Theatre District' : [40.7590, -73.9845],\n",
        "             'Beacon Hill' : [42.3588, -71.0707],\n",
        "             'Back Bay' : [42.3503, -71.0810],\n",
        "             'North End' : [42.3647, -71.0542],\n",
        "             'Financial District' : [40.7077, -74.0083],\n",
        "             'Boston University' : [42.3505, -71.1054]\n",
        "}"
      ],
      "execution_count": null,
      "outputs": []
    },
    {
      "cell_type": "code",
      "metadata": {
        "id": "PHQnojPD_4wh"
      },
      "source": [
        "src_latitude = []\n",
        "src_longitude = []\n",
        "dest_latitude = []\n",
        "dest_longitude = []\n",
        "\n",
        "for i in range(len(ride_share_df)):\n",
        "    src_latitude.append(loc_coord[ride_share_df['source'][i]][0])\n",
        "    src_longitude.append(loc_coord[ride_share_df['source'][i]][1])\n",
        "    dest_latitude.append(loc_coord[ride_share_df['destination'][i]][0])\n",
        "    dest_longitude.append(loc_coord[ride_share_df['destination'][i]][1])\n",
        "\n",
        "ride_share_df['pickup_latitude'] = src_latitude\n",
        "ride_share_df['pickup_longitude'] = src_longitude\n",
        "ride_share_df['dropoff_latitude'] = dest_latitude\n",
        "ride_share_df['dropoff_longitude'] = dest_longitude"
      ],
      "execution_count": null,
      "outputs": []
    },
    {
      "cell_type": "code",
      "metadata": {
        "id": "7sLD-3bDACsY"
      },
      "source": [
        "rel_cols = ['datetime', 'hour', 'day', 'month', 'source', 'destination', 'distance', 'price', 'pickup_latitude', 'pickup_longitude', 'dropoff_latitude', 'dropoff_longitude']"
      ],
      "execution_count": null,
      "outputs": []
    },
    {
      "cell_type": "code",
      "metadata": {
        "colab": {
          "base_uri": "https://localhost:8080/"
        },
        "id": "M4AHNr5BAF5d",
        "outputId": "4be5ba23-1175-46d1-864b-7665be3af44e"
      },
      "source": [
        "new_ride_share = ride_share_df[rel_cols]\n",
        "new_ride_share['datetime'] = new_ride_share['datetime'].astype(str)"
      ],
      "execution_count": null,
      "outputs": [
        {
          "output_type": "stream",
          "name": "stderr",
          "text": [
            "/usr/local/lib/python3.7/dist-packages/ipykernel_launcher.py:2: SettingWithCopyWarning: \n",
            "A value is trying to be set on a copy of a slice from a DataFrame.\n",
            "Try using .loc[row_indexer,col_indexer] = value instead\n",
            "\n",
            "See the caveats in the documentation: https://pandas.pydata.org/pandas-docs/stable/user_guide/indexing.html#returning-a-view-versus-a-copy\n",
            "  \n"
          ]
        }
      ]
    },
    {
      "cell_type": "code",
      "metadata": {
        "colab": {
          "base_uri": "https://localhost:8080/",
          "height": 423
        },
        "id": "6d02TPppALQ7",
        "outputId": "84430007-3001-4712-8bbc-e33ca566b4a0"
      },
      "source": [
        "new_ride_share"
      ],
      "execution_count": null,
      "outputs": [
        {
          "output_type": "execute_result",
          "data": {
            "text/html": [
              "<div>\n",
              "<style scoped>\n",
              "    .dataframe tbody tr th:only-of-type {\n",
              "        vertical-align: middle;\n",
              "    }\n",
              "\n",
              "    .dataframe tbody tr th {\n",
              "        vertical-align: top;\n",
              "    }\n",
              "\n",
              "    .dataframe thead th {\n",
              "        text-align: right;\n",
              "    }\n",
              "</style>\n",
              "<table border=\"1\" class=\"dataframe\">\n",
              "  <thead>\n",
              "    <tr style=\"text-align: right;\">\n",
              "      <th></th>\n",
              "      <th>datetime</th>\n",
              "      <th>hour</th>\n",
              "      <th>day</th>\n",
              "      <th>month</th>\n",
              "      <th>source</th>\n",
              "      <th>destination</th>\n",
              "      <th>distance</th>\n",
              "      <th>price</th>\n",
              "      <th>pickup_latitude</th>\n",
              "      <th>pickup_longitude</th>\n",
              "      <th>dropoff_latitude</th>\n",
              "      <th>dropoff_longitude</th>\n",
              "    </tr>\n",
              "  </thead>\n",
              "  <tbody>\n",
              "    <tr>\n",
              "      <th>0</th>\n",
              "      <td>2018-12-16 09:30:07</td>\n",
              "      <td>9</td>\n",
              "      <td>16</td>\n",
              "      <td>12</td>\n",
              "      <td>Haymarket Square</td>\n",
              "      <td>North Station</td>\n",
              "      <td>0.44</td>\n",
              "      <td>5.000000</td>\n",
              "      <td>42.3628</td>\n",
              "      <td>-71.0583</td>\n",
              "      <td>42.3664</td>\n",
              "      <td>-71.0620</td>\n",
              "    </tr>\n",
              "    <tr>\n",
              "      <th>1</th>\n",
              "      <td>2018-11-27 02:00:23</td>\n",
              "      <td>2</td>\n",
              "      <td>27</td>\n",
              "      <td>11</td>\n",
              "      <td>Haymarket Square</td>\n",
              "      <td>North Station</td>\n",
              "      <td>0.44</td>\n",
              "      <td>11.000000</td>\n",
              "      <td>42.3628</td>\n",
              "      <td>-71.0583</td>\n",
              "      <td>42.3664</td>\n",
              "      <td>-71.0620</td>\n",
              "    </tr>\n",
              "    <tr>\n",
              "      <th>2</th>\n",
              "      <td>2018-11-28 01:00:22</td>\n",
              "      <td>1</td>\n",
              "      <td>28</td>\n",
              "      <td>11</td>\n",
              "      <td>Haymarket Square</td>\n",
              "      <td>North Station</td>\n",
              "      <td>0.44</td>\n",
              "      <td>7.000000</td>\n",
              "      <td>42.3628</td>\n",
              "      <td>-71.0583</td>\n",
              "      <td>42.3664</td>\n",
              "      <td>-71.0620</td>\n",
              "    </tr>\n",
              "    <tr>\n",
              "      <th>3</th>\n",
              "      <td>2018-11-30 04:53:02</td>\n",
              "      <td>4</td>\n",
              "      <td>30</td>\n",
              "      <td>11</td>\n",
              "      <td>Haymarket Square</td>\n",
              "      <td>North Station</td>\n",
              "      <td>0.44</td>\n",
              "      <td>26.000000</td>\n",
              "      <td>42.3628</td>\n",
              "      <td>-71.0583</td>\n",
              "      <td>42.3664</td>\n",
              "      <td>-71.0620</td>\n",
              "    </tr>\n",
              "    <tr>\n",
              "      <th>4</th>\n",
              "      <td>2018-11-29 03:49:20</td>\n",
              "      <td>3</td>\n",
              "      <td>29</td>\n",
              "      <td>11</td>\n",
              "      <td>Haymarket Square</td>\n",
              "      <td>North Station</td>\n",
              "      <td>0.44</td>\n",
              "      <td>9.000000</td>\n",
              "      <td>42.3628</td>\n",
              "      <td>-71.0583</td>\n",
              "      <td>42.3664</td>\n",
              "      <td>-71.0620</td>\n",
              "    </tr>\n",
              "    <tr>\n",
              "      <th>...</th>\n",
              "      <td>...</td>\n",
              "      <td>...</td>\n",
              "      <td>...</td>\n",
              "      <td>...</td>\n",
              "      <td>...</td>\n",
              "      <td>...</td>\n",
              "      <td>...</td>\n",
              "      <td>...</td>\n",
              "      <td>...</td>\n",
              "      <td>...</td>\n",
              "      <td>...</td>\n",
              "      <td>...</td>\n",
              "    </tr>\n",
              "    <tr>\n",
              "      <th>693066</th>\n",
              "      <td>2018-12-01 23:53:05</td>\n",
              "      <td>23</td>\n",
              "      <td>1</td>\n",
              "      <td>12</td>\n",
              "      <td>West End</td>\n",
              "      <td>North End</td>\n",
              "      <td>1.00</td>\n",
              "      <td>13.000000</td>\n",
              "      <td>42.4556</td>\n",
              "      <td>-75.0966</td>\n",
              "      <td>42.3647</td>\n",
              "      <td>-71.0542</td>\n",
              "    </tr>\n",
              "    <tr>\n",
              "      <th>693067</th>\n",
              "      <td>2018-12-01 23:53:05</td>\n",
              "      <td>23</td>\n",
              "      <td>1</td>\n",
              "      <td>12</td>\n",
              "      <td>West End</td>\n",
              "      <td>North End</td>\n",
              "      <td>1.00</td>\n",
              "      <td>9.500000</td>\n",
              "      <td>42.4556</td>\n",
              "      <td>-75.0966</td>\n",
              "      <td>42.3647</td>\n",
              "      <td>-71.0542</td>\n",
              "    </tr>\n",
              "    <tr>\n",
              "      <th>693068</th>\n",
              "      <td>2018-12-01 23:53:05</td>\n",
              "      <td>23</td>\n",
              "      <td>1</td>\n",
              "      <td>12</td>\n",
              "      <td>West End</td>\n",
              "      <td>North End</td>\n",
              "      <td>1.00</td>\n",
              "      <td>16.545125</td>\n",
              "      <td>42.4556</td>\n",
              "      <td>-75.0966</td>\n",
              "      <td>42.3647</td>\n",
              "      <td>-71.0542</td>\n",
              "    </tr>\n",
              "    <tr>\n",
              "      <th>693069</th>\n",
              "      <td>2018-12-01 23:53:05</td>\n",
              "      <td>23</td>\n",
              "      <td>1</td>\n",
              "      <td>12</td>\n",
              "      <td>West End</td>\n",
              "      <td>North End</td>\n",
              "      <td>1.00</td>\n",
              "      <td>27.000000</td>\n",
              "      <td>42.4556</td>\n",
              "      <td>-75.0966</td>\n",
              "      <td>42.3647</td>\n",
              "      <td>-71.0542</td>\n",
              "    </tr>\n",
              "    <tr>\n",
              "      <th>693070</th>\n",
              "      <td>2018-12-01 23:53:05</td>\n",
              "      <td>23</td>\n",
              "      <td>1</td>\n",
              "      <td>12</td>\n",
              "      <td>West End</td>\n",
              "      <td>North End</td>\n",
              "      <td>1.00</td>\n",
              "      <td>10.000000</td>\n",
              "      <td>42.4556</td>\n",
              "      <td>-75.0966</td>\n",
              "      <td>42.3647</td>\n",
              "      <td>-71.0542</td>\n",
              "    </tr>\n",
              "  </tbody>\n",
              "</table>\n",
              "<p>693071 rows × 12 columns</p>\n",
              "</div>"
            ],
            "text/plain": [
              "                   datetime  hour  ...  dropoff_latitude  dropoff_longitude\n",
              "0       2018-12-16 09:30:07     9  ...           42.3664           -71.0620\n",
              "1       2018-11-27 02:00:23     2  ...           42.3664           -71.0620\n",
              "2       2018-11-28 01:00:22     1  ...           42.3664           -71.0620\n",
              "3       2018-11-30 04:53:02     4  ...           42.3664           -71.0620\n",
              "4       2018-11-29 03:49:20     3  ...           42.3664           -71.0620\n",
              "...                     ...   ...  ...               ...                ...\n",
              "693066  2018-12-01 23:53:05    23  ...           42.3647           -71.0542\n",
              "693067  2018-12-01 23:53:05    23  ...           42.3647           -71.0542\n",
              "693068  2018-12-01 23:53:05    23  ...           42.3647           -71.0542\n",
              "693069  2018-12-01 23:53:05    23  ...           42.3647           -71.0542\n",
              "693070  2018-12-01 23:53:05    23  ...           42.3647           -71.0542\n",
              "\n",
              "[693071 rows x 12 columns]"
            ]
          },
          "metadata": {},
          "execution_count": 28
        }
      ]
    },
    {
      "cell_type": "code",
      "metadata": {
        "id": "nb95vicgNeuI"
      },
      "source": [
        "# values=['price', 'distance','surge_multiplier']\n",
        "# ride_share_df_ds = ride_share_df.loc[:,values]"
      ],
      "execution_count": null,
      "outputs": []
    },
    {
      "cell_type": "code",
      "metadata": {
        "colab": {
          "base_uri": "https://localhost:8080/",
          "height": 423
        },
        "id": "DpRuFwNlNi5b",
        "outputId": "e8c3f646-753b-4b52-d35c-a37abcea6fa9"
      },
      "source": [
        "# linear_Data = ride_share_df[values]\n",
        "# linear_Data"
      ],
      "execution_count": null,
      "outputs": [
        {
          "output_type": "execute_result",
          "data": {
            "text/html": [
              "<div>\n",
              "<style scoped>\n",
              "    .dataframe tbody tr th:only-of-type {\n",
              "        vertical-align: middle;\n",
              "    }\n",
              "\n",
              "    .dataframe tbody tr th {\n",
              "        vertical-align: top;\n",
              "    }\n",
              "\n",
              "    .dataframe thead th {\n",
              "        text-align: right;\n",
              "    }\n",
              "</style>\n",
              "<table border=\"1\" class=\"dataframe\">\n",
              "  <thead>\n",
              "    <tr style=\"text-align: right;\">\n",
              "      <th></th>\n",
              "      <th>price</th>\n",
              "      <th>distance</th>\n",
              "      <th>surge_multiplier</th>\n",
              "    </tr>\n",
              "  </thead>\n",
              "  <tbody>\n",
              "    <tr>\n",
              "      <th>0</th>\n",
              "      <td>5.000000</td>\n",
              "      <td>0.44</td>\n",
              "      <td>1.0</td>\n",
              "    </tr>\n",
              "    <tr>\n",
              "      <th>1</th>\n",
              "      <td>11.000000</td>\n",
              "      <td>0.44</td>\n",
              "      <td>1.0</td>\n",
              "    </tr>\n",
              "    <tr>\n",
              "      <th>2</th>\n",
              "      <td>7.000000</td>\n",
              "      <td>0.44</td>\n",
              "      <td>1.0</td>\n",
              "    </tr>\n",
              "    <tr>\n",
              "      <th>3</th>\n",
              "      <td>26.000000</td>\n",
              "      <td>0.44</td>\n",
              "      <td>1.0</td>\n",
              "    </tr>\n",
              "    <tr>\n",
              "      <th>4</th>\n",
              "      <td>9.000000</td>\n",
              "      <td>0.44</td>\n",
              "      <td>1.0</td>\n",
              "    </tr>\n",
              "    <tr>\n",
              "      <th>...</th>\n",
              "      <td>...</td>\n",
              "      <td>...</td>\n",
              "      <td>...</td>\n",
              "    </tr>\n",
              "    <tr>\n",
              "      <th>693066</th>\n",
              "      <td>13.000000</td>\n",
              "      <td>1.00</td>\n",
              "      <td>1.0</td>\n",
              "    </tr>\n",
              "    <tr>\n",
              "      <th>693067</th>\n",
              "      <td>9.500000</td>\n",
              "      <td>1.00</td>\n",
              "      <td>1.0</td>\n",
              "    </tr>\n",
              "    <tr>\n",
              "      <th>693068</th>\n",
              "      <td>16.545125</td>\n",
              "      <td>1.00</td>\n",
              "      <td>1.0</td>\n",
              "    </tr>\n",
              "    <tr>\n",
              "      <th>693069</th>\n",
              "      <td>27.000000</td>\n",
              "      <td>1.00</td>\n",
              "      <td>1.0</td>\n",
              "    </tr>\n",
              "    <tr>\n",
              "      <th>693070</th>\n",
              "      <td>10.000000</td>\n",
              "      <td>1.00</td>\n",
              "      <td>1.0</td>\n",
              "    </tr>\n",
              "  </tbody>\n",
              "</table>\n",
              "<p>693071 rows × 3 columns</p>\n",
              "</div>"
            ],
            "text/plain": [
              "            price  distance  surge_multiplier\n",
              "0        5.000000      0.44               1.0\n",
              "1       11.000000      0.44               1.0\n",
              "2        7.000000      0.44               1.0\n",
              "3       26.000000      0.44               1.0\n",
              "4        9.000000      0.44               1.0\n",
              "...           ...       ...               ...\n",
              "693066  13.000000      1.00               1.0\n",
              "693067   9.500000      1.00               1.0\n",
              "693068  16.545125      1.00               1.0\n",
              "693069  27.000000      1.00               1.0\n",
              "693070  10.000000      1.00               1.0\n",
              "\n",
              "[693071 rows x 3 columns]"
            ]
          },
          "metadata": {},
          "execution_count": 10
        }
      ]
    },
    {
      "cell_type": "code",
      "metadata": {
        "id": "Fy5i2cKGNqjW"
      },
      "source": [
        "#separate the other attributes from the predicting attribute\n",
        "x = new_ride_share.drop(\"price\",axis=1)\n",
        "#separte the predicting attribute into Y for model training \n",
        "y = new_ride_share[\"price\"]"
      ],
      "execution_count": null,
      "outputs": []
    },
    {
      "cell_type": "code",
      "metadata": {
        "id": "0K30njiSOco7"
      },
      "source": [
        "from sklearn import  preprocessing\n",
        "label_encoder = preprocessing.LabelEncoder()\n",
        "for i in x.columns:\n",
        "  x[i] = label_encoder.fit_transform(x[i])"
      ],
      "execution_count": null,
      "outputs": []
    },
    {
      "cell_type": "code",
      "metadata": {
        "id": "Ds9MVfnsPQSv"
      },
      "source": [
        "from sklearn.preprocessing import StandardScaler"
      ],
      "execution_count": null,
      "outputs": []
    },
    {
      "cell_type": "code",
      "metadata": {
        "id": "XkAGRWsNPRzr"
      },
      "source": [
        "x = pd.DataFrame(StandardScaler().fit_transform(x),columns = x.columns)"
      ],
      "execution_count": null,
      "outputs": []
    },
    {
      "cell_type": "code",
      "metadata": {
        "id": "3iUB33s-Ntbl"
      },
      "source": [
        "# importing train_test_split from sklearn\n",
        "from sklearn.model_selection import train_test_split\n",
        "# splitting the data\n",
        "x_train, x_test, y_train, y_test = train_test_split(x, y, test_size = 0.2, random_state = 42)"
      ],
      "execution_count": null,
      "outputs": []
    },
    {
      "cell_type": "code",
      "metadata": {
        "id": "hihnO46ZN5es"
      },
      "source": [
        "from sklearn.neighbors import KNeighborsRegressor\n",
        "from sklearn.model_selection import GridSearchCV"
      ],
      "execution_count": null,
      "outputs": []
    },
    {
      "cell_type": "code",
      "metadata": {
        "id": "lqwmPan9N9rG"
      },
      "source": [
        "k_range = []\n",
        "for i in range(50):\n",
        "  k_range.append(i)"
      ],
      "execution_count": null,
      "outputs": []
    },
    {
      "cell_type": "code",
      "metadata": {
        "id": "vRVrNp0QOKni"
      },
      "source": [
        "param_grid = dict(n_neighbors=k_range)"
      ],
      "execution_count": null,
      "outputs": []
    },
    {
      "cell_type": "code",
      "metadata": {
        "id": "c5aukT3rONQ9"
      },
      "source": [
        "grid = GridSearchCV(KNeighborsRegressor(), param_grid)"
      ],
      "execution_count": null,
      "outputs": []
    },
    {
      "cell_type": "code",
      "metadata": {
        "id": "YsvpUMD8OUCE"
      },
      "source": [
        "grid.fit(x_train,y_train)"
      ],
      "execution_count": null,
      "outputs": []
    },
    {
      "cell_type": "code",
      "metadata": {
        "colab": {
          "base_uri": "https://localhost:8080/"
        },
        "id": "FptjXFyjJA2k",
        "outputId": "9732b16c-f5e5-48c6-cc99-97fa0e38a333"
      },
      "source": [
        "# filename = 'grid_ML_KNN.pkl'\n",
        "# path = F\"/content/drive/MyDrive/ML Project/{filename}\" \n",
        "# joblib.dump(grid,path)"
      ],
      "execution_count": null,
      "outputs": [
        {
          "output_type": "execute_result",
          "data": {
            "text/plain": [
              "['/content/drive/MyDrive/ML Project/grid_ML_KNN.pkl']"
            ]
          },
          "metadata": {},
          "execution_count": 42
        }
      ]
    },
    {
      "cell_type": "code",
      "metadata": {
        "id": "e0TeMudAJVmg"
      },
      "source": [
        "joblib_grid = joblib.load(\"/content/drive/MyDrive/ML Project/grid_ML_KNN.pkl\")"
      ],
      "execution_count": null,
      "outputs": []
    },
    {
      "cell_type": "code",
      "metadata": {
        "colab": {
          "base_uri": "https://localhost:8080/"
        },
        "id": "0JyUa-SZRHlo",
        "outputId": "d1060dda-cc67-46ea-bb0e-9b101919f042"
      },
      "source": [
        "grid.best_params_"
      ],
      "execution_count": null,
      "outputs": [
        {
          "output_type": "execute_result",
          "data": {
            "text/plain": [
              "{'n_neighbors': 39}"
            ]
          },
          "metadata": {},
          "execution_count": 45
        }
      ]
    },
    {
      "cell_type": "code",
      "metadata": {
        "id": "WDHEY_U3RI1n"
      },
      "source": [
        "neigh = KNeighborsRegressor(n_neighbors=39)"
      ],
      "execution_count": null,
      "outputs": []
    },
    {
      "cell_type": "code",
      "metadata": {
        "colab": {
          "base_uri": "https://localhost:8080/"
        },
        "id": "LPoLRq8GRRyb",
        "outputId": "96b9a858-e044-4c75-f7d5-c04bb65aafd8"
      },
      "source": [
        "neigh.fit(x_train, y_train)"
      ],
      "execution_count": null,
      "outputs": [
        {
          "output_type": "execute_result",
          "data": {
            "text/plain": [
              "KNeighborsRegressor(n_neighbors=39)"
            ]
          },
          "metadata": {},
          "execution_count": 47
        }
      ]
    },
    {
      "cell_type": "code",
      "metadata": {
        "id": "qJTrGxEvRWMa"
      },
      "source": [
        "y_pred_sk_train = neigh.predict(x_train)"
      ],
      "execution_count": null,
      "outputs": []
    },
    {
      "cell_type": "code",
      "metadata": {
        "id": "2fEdwVWZRqh5"
      },
      "source": [
        "y_pred_sk_train"
      ],
      "execution_count": null,
      "outputs": []
    },
    {
      "cell_type": "code",
      "metadata": {
        "id": "1ekxymZ-Rsmz"
      },
      "source": [
        "y_train"
      ],
      "execution_count": null,
      "outputs": []
    },
    {
      "cell_type": "code",
      "metadata": {
        "colab": {
          "base_uri": "https://localhost:8080/"
        },
        "id": "xWToiKs8RZsp",
        "outputId": "03a2c0b1-8cef-4e7e-a59d-7609df7e068c"
      },
      "source": [
        "from sklearn.metrics import r2_score\n",
        "from sklearn.metrics import mean_squared_error\n",
        "\n",
        "print('R2 score of KNN Regressor(Training) is',r2_score(y_train,y_pred_sk_train))\n",
        "print('Mean Squared Error of KNN Regressor(Training) is',mean_squared_error(y_train,y_pred_sk_train))\n",
        "print('Root Mean Squared Error of KNN Regressor(Training) is',np.sqrt(mean_squared_error(y_train,y_pred_sk_train)))"
      ],
      "execution_count": null,
      "outputs": [
        {
          "output_type": "stream",
          "name": "stdout",
          "text": [
            "R2 score of KNN Regressor(Training) is 0.1375868820430025\n",
            "Mean Squared Error of KNN Regressor(Training) is 69.04071175926991\n",
            "Root Mean Squared Error of KNN Regressor(Training) is 8.30907406148663\n"
          ]
        }
      ]
    },
    {
      "cell_type": "code",
      "metadata": {
        "id": "BbqepGDFScn8"
      },
      "source": [
        "y_pred_sk_test = neigh.predict(x_test)"
      ],
      "execution_count": null,
      "outputs": []
    },
    {
      "cell_type": "code",
      "metadata": {
        "colab": {
          "base_uri": "https://localhost:8080/"
        },
        "id": "pXHkuGaTSpuo",
        "outputId": "a552f8bb-9707-4759-9595-08815e449b30"
      },
      "source": [
        "from sklearn.metrics import r2_score\n",
        "from sklearn.metrics import mean_squared_error\n",
        "\n",
        "print('R2 score of KNN Regressor(Testing) is',r2_score(y_test,y_pred_sk_test))\n",
        "print('Mean Squared Error of KNN Regressor(Testing) is',mean_squared_error(y_test,y_pred_sk_test))\n",
        "print('Root Mean Squared Error of KNN Regressor(Testing) is',np.sqrt(mean_squared_error(y_test,y_pred_sk_test)))"
      ],
      "execution_count": null,
      "outputs": [
        {
          "output_type": "stream",
          "name": "stdout",
          "text": [
            "R2 score of KNN Regressor(Testing) is 0.09264460177200662\n",
            "Mean Squared Error of KNN Regressor(Testing) is 72.53191582007565\n",
            "Root Mean Squared Error of KNN Regressor(Testing) is 8.516567138235667\n"
          ]
        }
      ]
    }
  ]
}