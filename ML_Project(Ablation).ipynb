{
  "cells": [
    {
      "cell_type": "code",
      "execution_count": null,
      "metadata": {
        "colab": {
          "base_uri": "https://localhost:8080/"
        },
        "id": "QRlXeUjIU9P0",
        "outputId": "d9eb0612-52d6-457e-fecf-b96d37162784"
      },
      "outputs": [
        {
          "output_type": "stream",
          "name": "stdout",
          "text": [
            "Mounted at /content/drive\n"
          ]
        }
      ],
      "source": [
        "from google.colab import drive\n",
        "drive.mount('/content/drive')"
      ]
    },
    {
      "cell_type": "code",
      "execution_count": null,
      "metadata": {
        "id": "AjRDR3ZsVNNS"
      },
      "outputs": [],
      "source": [
        "import os\n",
        "import pandas as pd\n",
        "import numpy as np\n",
        "import matplotlib.pyplot as plt\n",
        "import seaborn as sns\n",
        "from sklearn.metrics import accuracy_score\n",
        "import joblib"
      ]
    },
    {
      "cell_type": "code",
      "execution_count": null,
      "metadata": {
        "id": "TdVLWTl6VPu8"
      },
      "outputs": [],
      "source": [
        "ride_share_df = pd.read_csv(\"/content/drive/MyDrive/ML Project/rideshare_kaggle.csv\")"
      ]
    },
    {
      "cell_type": "code",
      "execution_count": null,
      "metadata": {
        "colab": {
          "base_uri": "https://localhost:8080/"
        },
        "id": "yNyTnkk6Y1IW",
        "outputId": "8cb2faa0-ab34-428a-89b2-97e7a1c44342"
      },
      "outputs": [
        {
          "output_type": "execute_result",
          "data": {
            "text/plain": [
              "Index(['price'], dtype='object')"
            ]
          },
          "metadata": {},
          "execution_count": 4
        }
      ],
      "source": [
        "ride_share_df.columns[ride_share_df.isnull().any()]"
      ]
    },
    {
      "cell_type": "code",
      "execution_count": null,
      "metadata": {
        "id": "kLWoXlfQYySG"
      },
      "outputs": [],
      "source": [
        "ride_share_df['price'] = ride_share_df['price'].fillna(ride_share_df['price'].mean())"
      ]
    },
    {
      "cell_type": "code",
      "execution_count": null,
      "metadata": {
        "colab": {
          "base_uri": "https://localhost:8080/"
        },
        "id": "_CWRH9nNY3Hx",
        "outputId": "74379d0d-d2cb-4dec-abc3-485c0e8d5892"
      },
      "outputs": [
        {
          "output_type": "execute_result",
          "data": {
            "text/plain": [
              "Index([], dtype='object')"
            ]
          },
          "metadata": {},
          "execution_count": 6
        }
      ],
      "source": [
        "ride_share_df.columns[ride_share_df.isnull().any()]"
      ]
    },
    {
      "cell_type": "code",
      "execution_count": null,
      "metadata": {
        "id": "jHSJos-NVT0N"
      },
      "outputs": [],
      "source": [
        "loc_coord = {'Haymarket Square' : [42.3628, -71.0583],\n",
        "             'North Station' : [42.3664, -71.0620],\n",
        "             'Northeastern University' : [42.3398, -71.0892],\n",
        "             'West End' : [42.4556, -75.0966],\n",
        "             'South Station' : [42.3519, -71.0552],\n",
        "             'Fenway' : [42.3519, -71.0552],\n",
        "             'Theatre District' : [40.7590, -73.9845],\n",
        "             'Beacon Hill' : [42.3588, -71.0707],\n",
        "             'Back Bay' : [42.3503, -71.0810],\n",
        "             'North End' : [42.3647, -71.0542],\n",
        "             'Financial District' : [40.7077, -74.0083],\n",
        "             'Boston University' : [42.3505, -71.1054]\n",
        "}"
      ]
    },
    {
      "cell_type": "code",
      "execution_count": null,
      "metadata": {
        "id": "HDV2Q7_PVV75"
      },
      "outputs": [],
      "source": [
        "src_latitude = []\n",
        "src_longitude = []\n",
        "dest_latitude = []\n",
        "dest_longitude = []\n",
        "\n",
        "for i in range(len(ride_share_df)):\n",
        "    src_latitude.append(loc_coord[ride_share_df['source'][i]][0])\n",
        "    src_longitude.append(loc_coord[ride_share_df['source'][i]][1])\n",
        "    dest_latitude.append(loc_coord[ride_share_df['destination'][i]][0])\n",
        "    dest_longitude.append(loc_coord[ride_share_df['destination'][i]][1])\n",
        "\n",
        "ride_share_df['pickup_latitude'] = src_latitude\n",
        "ride_share_df['pickup_longitude'] = src_longitude\n",
        "ride_share_df['dropoff_latitude'] = dest_latitude\n",
        "ride_share_df['dropoff_longitude'] = dest_longitude"
      ]
    },
    {
      "cell_type": "code",
      "execution_count": null,
      "metadata": {
        "id": "k0yt9RtrVjdV"
      },
      "outputs": [],
      "source": [
        "rel_cols = ['datetime', 'hour', 'day', 'month', 'source', 'destination', 'distance', 'price', 'pickup_latitude', 'pickup_longitude', 'dropoff_latitude', 'dropoff_longitude']"
      ]
    },
    {
      "cell_type": "code",
      "execution_count": null,
      "metadata": {
        "colab": {
          "base_uri": "https://localhost:8080/"
        },
        "id": "jzWSVRFkVmCG",
        "outputId": "c24f5692-3409-4222-ae0c-a3f5e4b56eaa"
      },
      "outputs": [
        {
          "output_type": "stream",
          "name": "stderr",
          "text": [
            "/usr/local/lib/python3.7/dist-packages/ipykernel_launcher.py:2: SettingWithCopyWarning: \n",
            "A value is trying to be set on a copy of a slice from a DataFrame.\n",
            "Try using .loc[row_indexer,col_indexer] = value instead\n",
            "\n",
            "See the caveats in the documentation: https://pandas.pydata.org/pandas-docs/stable/user_guide/indexing.html#returning-a-view-versus-a-copy\n",
            "  \n"
          ]
        }
      ],
      "source": [
        "new_ride_share = ride_share_df[rel_cols]\n",
        "new_ride_share['datetime'] = new_ride_share['datetime'].astype(str)"
      ]
    },
    {
      "cell_type": "code",
      "execution_count": null,
      "metadata": {
        "colab": {
          "base_uri": "https://localhost:8080/",
          "height": 423
        },
        "id": "xVLiT5yGVqGB",
        "outputId": "a22f31e9-9a69-4398-e67e-2e00322af52b"
      },
      "outputs": [
        {
          "output_type": "execute_result",
          "data": {
            "text/html": [
              "<div>\n",
              "<style scoped>\n",
              "    .dataframe tbody tr th:only-of-type {\n",
              "        vertical-align: middle;\n",
              "    }\n",
              "\n",
              "    .dataframe tbody tr th {\n",
              "        vertical-align: top;\n",
              "    }\n",
              "\n",
              "    .dataframe thead th {\n",
              "        text-align: right;\n",
              "    }\n",
              "</style>\n",
              "<table border=\"1\" class=\"dataframe\">\n",
              "  <thead>\n",
              "    <tr style=\"text-align: right;\">\n",
              "      <th></th>\n",
              "      <th>datetime</th>\n",
              "      <th>hour</th>\n",
              "      <th>day</th>\n",
              "      <th>month</th>\n",
              "      <th>source</th>\n",
              "      <th>destination</th>\n",
              "      <th>distance</th>\n",
              "      <th>price</th>\n",
              "      <th>pickup_latitude</th>\n",
              "      <th>pickup_longitude</th>\n",
              "      <th>dropoff_latitude</th>\n",
              "      <th>dropoff_longitude</th>\n",
              "    </tr>\n",
              "  </thead>\n",
              "  <tbody>\n",
              "    <tr>\n",
              "      <th>0</th>\n",
              "      <td>2018-12-16 09:30:07</td>\n",
              "      <td>9</td>\n",
              "      <td>16</td>\n",
              "      <td>12</td>\n",
              "      <td>Haymarket Square</td>\n",
              "      <td>North Station</td>\n",
              "      <td>0.44</td>\n",
              "      <td>5.000000</td>\n",
              "      <td>42.3628</td>\n",
              "      <td>-71.0583</td>\n",
              "      <td>42.3664</td>\n",
              "      <td>-71.0620</td>\n",
              "    </tr>\n",
              "    <tr>\n",
              "      <th>1</th>\n",
              "      <td>2018-11-27 02:00:23</td>\n",
              "      <td>2</td>\n",
              "      <td>27</td>\n",
              "      <td>11</td>\n",
              "      <td>Haymarket Square</td>\n",
              "      <td>North Station</td>\n",
              "      <td>0.44</td>\n",
              "      <td>11.000000</td>\n",
              "      <td>42.3628</td>\n",
              "      <td>-71.0583</td>\n",
              "      <td>42.3664</td>\n",
              "      <td>-71.0620</td>\n",
              "    </tr>\n",
              "    <tr>\n",
              "      <th>2</th>\n",
              "      <td>2018-11-28 01:00:22</td>\n",
              "      <td>1</td>\n",
              "      <td>28</td>\n",
              "      <td>11</td>\n",
              "      <td>Haymarket Square</td>\n",
              "      <td>North Station</td>\n",
              "      <td>0.44</td>\n",
              "      <td>7.000000</td>\n",
              "      <td>42.3628</td>\n",
              "      <td>-71.0583</td>\n",
              "      <td>42.3664</td>\n",
              "      <td>-71.0620</td>\n",
              "    </tr>\n",
              "    <tr>\n",
              "      <th>3</th>\n",
              "      <td>2018-11-30 04:53:02</td>\n",
              "      <td>4</td>\n",
              "      <td>30</td>\n",
              "      <td>11</td>\n",
              "      <td>Haymarket Square</td>\n",
              "      <td>North Station</td>\n",
              "      <td>0.44</td>\n",
              "      <td>26.000000</td>\n",
              "      <td>42.3628</td>\n",
              "      <td>-71.0583</td>\n",
              "      <td>42.3664</td>\n",
              "      <td>-71.0620</td>\n",
              "    </tr>\n",
              "    <tr>\n",
              "      <th>4</th>\n",
              "      <td>2018-11-29 03:49:20</td>\n",
              "      <td>3</td>\n",
              "      <td>29</td>\n",
              "      <td>11</td>\n",
              "      <td>Haymarket Square</td>\n",
              "      <td>North Station</td>\n",
              "      <td>0.44</td>\n",
              "      <td>9.000000</td>\n",
              "      <td>42.3628</td>\n",
              "      <td>-71.0583</td>\n",
              "      <td>42.3664</td>\n",
              "      <td>-71.0620</td>\n",
              "    </tr>\n",
              "    <tr>\n",
              "      <th>...</th>\n",
              "      <td>...</td>\n",
              "      <td>...</td>\n",
              "      <td>...</td>\n",
              "      <td>...</td>\n",
              "      <td>...</td>\n",
              "      <td>...</td>\n",
              "      <td>...</td>\n",
              "      <td>...</td>\n",
              "      <td>...</td>\n",
              "      <td>...</td>\n",
              "      <td>...</td>\n",
              "      <td>...</td>\n",
              "    </tr>\n",
              "    <tr>\n",
              "      <th>693066</th>\n",
              "      <td>2018-12-01 23:53:05</td>\n",
              "      <td>23</td>\n",
              "      <td>1</td>\n",
              "      <td>12</td>\n",
              "      <td>West End</td>\n",
              "      <td>North End</td>\n",
              "      <td>1.00</td>\n",
              "      <td>13.000000</td>\n",
              "      <td>42.4556</td>\n",
              "      <td>-75.0966</td>\n",
              "      <td>42.3647</td>\n",
              "      <td>-71.0542</td>\n",
              "    </tr>\n",
              "    <tr>\n",
              "      <th>693067</th>\n",
              "      <td>2018-12-01 23:53:05</td>\n",
              "      <td>23</td>\n",
              "      <td>1</td>\n",
              "      <td>12</td>\n",
              "      <td>West End</td>\n",
              "      <td>North End</td>\n",
              "      <td>1.00</td>\n",
              "      <td>9.500000</td>\n",
              "      <td>42.4556</td>\n",
              "      <td>-75.0966</td>\n",
              "      <td>42.3647</td>\n",
              "      <td>-71.0542</td>\n",
              "    </tr>\n",
              "    <tr>\n",
              "      <th>693068</th>\n",
              "      <td>2018-12-01 23:53:05</td>\n",
              "      <td>23</td>\n",
              "      <td>1</td>\n",
              "      <td>12</td>\n",
              "      <td>West End</td>\n",
              "      <td>North End</td>\n",
              "      <td>1.00</td>\n",
              "      <td>16.545125</td>\n",
              "      <td>42.4556</td>\n",
              "      <td>-75.0966</td>\n",
              "      <td>42.3647</td>\n",
              "      <td>-71.0542</td>\n",
              "    </tr>\n",
              "    <tr>\n",
              "      <th>693069</th>\n",
              "      <td>2018-12-01 23:53:05</td>\n",
              "      <td>23</td>\n",
              "      <td>1</td>\n",
              "      <td>12</td>\n",
              "      <td>West End</td>\n",
              "      <td>North End</td>\n",
              "      <td>1.00</td>\n",
              "      <td>27.000000</td>\n",
              "      <td>42.4556</td>\n",
              "      <td>-75.0966</td>\n",
              "      <td>42.3647</td>\n",
              "      <td>-71.0542</td>\n",
              "    </tr>\n",
              "    <tr>\n",
              "      <th>693070</th>\n",
              "      <td>2018-12-01 23:53:05</td>\n",
              "      <td>23</td>\n",
              "      <td>1</td>\n",
              "      <td>12</td>\n",
              "      <td>West End</td>\n",
              "      <td>North End</td>\n",
              "      <td>1.00</td>\n",
              "      <td>10.000000</td>\n",
              "      <td>42.4556</td>\n",
              "      <td>-75.0966</td>\n",
              "      <td>42.3647</td>\n",
              "      <td>-71.0542</td>\n",
              "    </tr>\n",
              "  </tbody>\n",
              "</table>\n",
              "<p>693071 rows × 12 columns</p>\n",
              "</div>"
            ],
            "text/plain": [
              "                   datetime  hour  ...  dropoff_latitude  dropoff_longitude\n",
              "0       2018-12-16 09:30:07     9  ...           42.3664           -71.0620\n",
              "1       2018-11-27 02:00:23     2  ...           42.3664           -71.0620\n",
              "2       2018-11-28 01:00:22     1  ...           42.3664           -71.0620\n",
              "3       2018-11-30 04:53:02     4  ...           42.3664           -71.0620\n",
              "4       2018-11-29 03:49:20     3  ...           42.3664           -71.0620\n",
              "...                     ...   ...  ...               ...                ...\n",
              "693066  2018-12-01 23:53:05    23  ...           42.3647           -71.0542\n",
              "693067  2018-12-01 23:53:05    23  ...           42.3647           -71.0542\n",
              "693068  2018-12-01 23:53:05    23  ...           42.3647           -71.0542\n",
              "693069  2018-12-01 23:53:05    23  ...           42.3647           -71.0542\n",
              "693070  2018-12-01 23:53:05    23  ...           42.3647           -71.0542\n",
              "\n",
              "[693071 rows x 12 columns]"
            ]
          },
          "metadata": {},
          "execution_count": 11
        }
      ],
      "source": [
        "new_ride_share"
      ]
    },
    {
      "cell_type": "code",
      "execution_count": null,
      "metadata": {
        "id": "vZGzgyxPYlAh"
      },
      "outputs": [],
      "source": [
        "#separate the other attributes from the predicting attribute\n",
        "x = new_ride_share.drop(\"price\",axis=1)\n",
        "#separte the predicting attribute into Y for model training \n",
        "y = new_ride_share[\"price\"]"
      ]
    },
    {
      "cell_type": "code",
      "execution_count": null,
      "metadata": {
        "id": "6ZPR1t7nYmI3"
      },
      "outputs": [],
      "source": [
        "from sklearn import  preprocessing\n",
        "label_encoder = preprocessing.LabelEncoder()\n",
        "for i in x.columns:\n",
        "  x[i] = label_encoder.fit_transform(x[i])"
      ]
    },
    {
      "cell_type": "code",
      "execution_count": null,
      "metadata": {
        "id": "ZTNUxcYkZFLu"
      },
      "outputs": [],
      "source": [
        "from sklearn.preprocessing import StandardScaler"
      ]
    },
    {
      "cell_type": "code",
      "execution_count": null,
      "metadata": {
        "id": "WnQYGsSlZGuE"
      },
      "outputs": [],
      "source": [
        "x = pd.DataFrame(StandardScaler().fit_transform(x),columns = x.columns)"
      ]
    },
    {
      "cell_type": "code",
      "execution_count": null,
      "metadata": {
        "id": "omoILoHaZIxN"
      },
      "outputs": [],
      "source": [
        "# importing train_test_split from sklearn\n",
        "from sklearn.model_selection import train_test_split\n",
        "# splitting the data\n",
        "x_train, x_test, y_train, y_test = train_test_split(x, y, test_size = 0.2, random_state = 42)"
      ]
    },
    {
      "cell_type": "code",
      "execution_count": null,
      "metadata": {
        "colab": {
          "base_uri": "https://localhost:8080/",
          "height": 423
        },
        "id": "BlVu6Oh1d_VI",
        "outputId": "0166644b-3fdb-4ce9-d056-825c9e985db6"
      },
      "outputs": [
        {
          "output_type": "execute_result",
          "data": {
            "text/html": [
              "<div>\n",
              "<style scoped>\n",
              "    .dataframe tbody tr th:only-of-type {\n",
              "        vertical-align: middle;\n",
              "    }\n",
              "\n",
              "    .dataframe tbody tr th {\n",
              "        vertical-align: top;\n",
              "    }\n",
              "\n",
              "    .dataframe thead th {\n",
              "        text-align: right;\n",
              "    }\n",
              "</style>\n",
              "<table border=\"1\" class=\"dataframe\">\n",
              "  <thead>\n",
              "    <tr style=\"text-align: right;\">\n",
              "      <th></th>\n",
              "      <th>datetime</th>\n",
              "      <th>hour</th>\n",
              "      <th>day</th>\n",
              "      <th>month</th>\n",
              "      <th>source</th>\n",
              "      <th>destination</th>\n",
              "      <th>distance</th>\n",
              "      <th>pickup_latitude</th>\n",
              "      <th>pickup_longitude</th>\n",
              "      <th>dropoff_latitude</th>\n",
              "      <th>dropoff_longitude</th>\n",
              "    </tr>\n",
              "  </thead>\n",
              "  <tbody>\n",
              "    <tr>\n",
              "      <th>295098</th>\n",
              "      <td>0.382709</td>\n",
              "      <td>1.637980</td>\n",
              "      <td>-1.026695</td>\n",
              "      <td>0.839341</td>\n",
              "      <td>1.015350</td>\n",
              "      <td>1.305202</td>\n",
              "      <td>-0.813027</td>\n",
              "      <td>0.004621</td>\n",
              "      <td>1.138871</td>\n",
              "      <td>-1.315293</td>\n",
              "      <td>-1.030831</td>\n",
              "    </tr>\n",
              "    <tr>\n",
              "      <th>75594</th>\n",
              "      <td>0.122632</td>\n",
              "      <td>-0.952653</td>\n",
              "      <td>-1.422115</td>\n",
              "      <td>0.839341</td>\n",
              "      <td>-0.433915</td>\n",
              "      <td>-0.144089</td>\n",
              "      <td>-0.975350</td>\n",
              "      <td>-1.645133</td>\n",
              "      <td>-1.340772</td>\n",
              "      <td>0.664420</td>\n",
              "      <td>0.828885</td>\n",
              "    </tr>\n",
              "    <tr>\n",
              "      <th>41271</th>\n",
              "      <td>0.265586</td>\n",
              "      <td>1.062284</td>\n",
              "      <td>-1.422115</td>\n",
              "      <td>0.839341</td>\n",
              "      <td>1.015350</td>\n",
              "      <td>1.305202</td>\n",
              "      <td>-0.903207</td>\n",
              "      <td>0.004621</td>\n",
              "      <td>1.138871</td>\n",
              "      <td>-1.315293</td>\n",
              "      <td>-1.030831</td>\n",
              "    </tr>\n",
              "    <tr>\n",
              "      <th>304967</th>\n",
              "      <td>-1.100987</td>\n",
              "      <td>-0.376957</td>\n",
              "      <td>0.950409</td>\n",
              "      <td>-1.191411</td>\n",
              "      <td>-0.433915</td>\n",
              "      <td>-0.144089</td>\n",
              "      <td>-0.840081</td>\n",
              "      <td>-1.645133</td>\n",
              "      <td>-1.340772</td>\n",
              "      <td>0.664420</td>\n",
              "      <td>0.828885</td>\n",
              "    </tr>\n",
              "    <tr>\n",
              "      <th>117673</th>\n",
              "      <td>1.792852</td>\n",
              "      <td>-0.089109</td>\n",
              "      <td>0.357278</td>\n",
              "      <td>0.839341</td>\n",
              "      <td>-1.593327</td>\n",
              "      <td>1.015344</td>\n",
              "      <td>-0.758919</td>\n",
              "      <td>-0.655280</td>\n",
              "      <td>-0.100951</td>\n",
              "      <td>0.004516</td>\n",
              "      <td>1.138838</td>\n",
              "    </tr>\n",
              "    <tr>\n",
              "      <th>...</th>\n",
              "      <td>...</td>\n",
              "      <td>...</td>\n",
              "      <td>...</td>\n",
              "      <td>...</td>\n",
              "      <td>...</td>\n",
              "      <td>...</td>\n",
              "      <td>...</td>\n",
              "      <td>...</td>\n",
              "      <td>...</td>\n",
              "      <td>...</td>\n",
              "      <td>...</td>\n",
              "    </tr>\n",
              "    <tr>\n",
              "      <th>259178</th>\n",
              "      <td>0.783147</td>\n",
              "      <td>0.486587</td>\n",
              "      <td>-0.433564</td>\n",
              "      <td>0.839341</td>\n",
              "      <td>-0.723768</td>\n",
              "      <td>-0.433947</td>\n",
              "      <td>2.000575</td>\n",
              "      <td>0.004621</td>\n",
              "      <td>1.138871</td>\n",
              "      <td>-1.645245</td>\n",
              "      <td>-1.340783</td>\n",
              "    </tr>\n",
              "    <tr>\n",
              "      <th>365838</th>\n",
              "      <td>-1.374965</td>\n",
              "      <td>-1.096577</td>\n",
              "      <td>0.554988</td>\n",
              "      <td>-1.191411</td>\n",
              "      <td>-0.144062</td>\n",
              "      <td>-0.433947</td>\n",
              "      <td>-1.146691</td>\n",
              "      <td>0.664523</td>\n",
              "      <td>0.828915</td>\n",
              "      <td>-1.645245</td>\n",
              "      <td>-1.340783</td>\n",
              "    </tr>\n",
              "    <tr>\n",
              "      <th>131932</th>\n",
              "      <td>-0.457900</td>\n",
              "      <td>1.494056</td>\n",
              "      <td>1.345830</td>\n",
              "      <td>-1.191411</td>\n",
              "      <td>1.015350</td>\n",
              "      <td>-0.433947</td>\n",
              "      <td>-1.381158</td>\n",
              "      <td>0.004621</td>\n",
              "      <td>1.138871</td>\n",
              "      <td>-1.645245</td>\n",
              "      <td>-1.340783</td>\n",
              "    </tr>\n",
              "    <tr>\n",
              "      <th>671155</th>\n",
              "      <td>1.260249</td>\n",
              "      <td>-0.233033</td>\n",
              "      <td>-0.038143</td>\n",
              "      <td>0.839341</td>\n",
              "      <td>1.595056</td>\n",
              "      <td>0.725486</td>\n",
              "      <td>0.810205</td>\n",
              "      <td>1.654375</td>\n",
              "      <td>-1.650727</td>\n",
              "      <td>-0.985340</td>\n",
              "      <td>-0.410926</td>\n",
              "    </tr>\n",
              "    <tr>\n",
              "      <th>121958</th>\n",
              "      <td>0.982743</td>\n",
              "      <td>-0.376957</td>\n",
              "      <td>-0.235853</td>\n",
              "      <td>0.839341</td>\n",
              "      <td>-1.593327</td>\n",
              "      <td>-0.723805</td>\n",
              "      <td>-0.704812</td>\n",
              "      <td>-0.655280</td>\n",
              "      <td>-0.100951</td>\n",
              "      <td>0.004516</td>\n",
              "      <td>1.138838</td>\n",
              "    </tr>\n",
              "  </tbody>\n",
              "</table>\n",
              "<p>554456 rows × 11 columns</p>\n",
              "</div>"
            ],
            "text/plain": [
              "        datetime      hour  ...  dropoff_latitude  dropoff_longitude\n",
              "295098  0.382709  1.637980  ...         -1.315293          -1.030831\n",
              "75594   0.122632 -0.952653  ...          0.664420           0.828885\n",
              "41271   0.265586  1.062284  ...         -1.315293          -1.030831\n",
              "304967 -1.100987 -0.376957  ...          0.664420           0.828885\n",
              "117673  1.792852 -0.089109  ...          0.004516           1.138838\n",
              "...          ...       ...  ...               ...                ...\n",
              "259178  0.783147  0.486587  ...         -1.645245          -1.340783\n",
              "365838 -1.374965 -1.096577  ...         -1.645245          -1.340783\n",
              "131932 -0.457900  1.494056  ...         -1.645245          -1.340783\n",
              "671155  1.260249 -0.233033  ...         -0.985340          -0.410926\n",
              "121958  0.982743 -0.376957  ...          0.004516           1.138838\n",
              "\n",
              "[554456 rows x 11 columns]"
            ]
          },
          "metadata": {},
          "execution_count": 17
        }
      ],
      "source": [
        "x_train"
      ]
    },
    {
      "cell_type": "code",
      "execution_count": null,
      "metadata": {
        "id": "58l1hsBxZLOa"
      },
      "outputs": [],
      "source": [
        "from sklearn.neighbors import KNeighborsRegressor\n",
        "from sklearn.model_selection import GridSearchCV"
      ]
    },
    {
      "cell_type": "code",
      "execution_count": null,
      "metadata": {
        "id": "s0hn_-fYZSd0"
      },
      "outputs": [],
      "source": [
        "from sklearn.metrics import r2_score\n",
        "from sklearn.metrics import mean_squared_error\n",
        "def model_score(x_train,y_train,x_test,y_test):\n",
        "    neigh = KNeighborsRegressor(n_neighbors=39)\n",
        "    neigh.fit(x_train, y_train)\n",
        "    y_pred_sk_train = neigh.predict(x_test)\n",
        "    return np.sqrt(mean_squared_error(y_test,y_pred_sk_train))"
      ]
    },
    {
      "cell_type": "code",
      "execution_count": null,
      "metadata": {
        "id": "m2QSM-cIZ9Wq"
      },
      "outputs": [],
      "source": [
        "score = model_score(x_train,y_train,x_test,y_test)"
      ]
    },
    {
      "cell_type": "code",
      "execution_count": null,
      "metadata": {
        "id": "xR8qYd_6a7PP"
      },
      "outputs": [],
      "source": [
        "x_train_arr = np.asarray(x_train)\n",
        "x_test_arr = np.asarray(x_test)"
      ]
    },
    {
      "cell_type": "code",
      "execution_count": null,
      "metadata": {
        "id": "rWjtKrVycur-"
      },
      "outputs": [],
      "source": [
        "# x_test"
      ]
    },
    {
      "cell_type": "code",
      "execution_count": null,
      "metadata": {
        "colab": {
          "base_uri": "https://localhost:8080/"
        },
        "id": "T-uOchvTdwL_",
        "outputId": "5137885f-1c3f-4bc9-d244-a90e1d36fe82"
      },
      "outputs": [
        {
          "output_type": "execute_result",
          "data": {
            "text/plain": [
              "(554456, 11)"
            ]
          },
          "metadata": {},
          "execution_count": 23
        }
      ],
      "source": [
        "x_train_arr.shape"
      ]
    },
    {
      "cell_type": "code",
      "execution_count": null,
      "metadata": {
        "id": "XSN2zfhWG1TP"
      },
      "outputs": [],
      "source": [
        "actual_score = model_score(x_train_arr, y_train, x_test_arr, y_test)"
      ]
    },
    {
      "cell_type": "code",
      "source": [
        "print('New Testing Accuracy before ablation is - '+str(actual_score))"
      ],
      "metadata": {
        "colab": {
          "base_uri": "https://localhost:8080/"
        },
        "id": "9jZg1QUIRYaR",
        "outputId": "b2011e4b-639a-46ad-fa21-8a5487a24235"
      },
      "execution_count": null,
      "outputs": [
        {
          "output_type": "stream",
          "name": "stdout",
          "text": [
            "New Testing Accuracy before ablation is - 8.516567138235667\n"
          ]
        }
      ]
    },
    {
      "cell_type": "code",
      "execution_count": null,
      "metadata": {
        "id": "cxD8F9SPajkK"
      },
      "outputs": [],
      "source": [
        "scores = []\n",
        "for i in range(x_train_arr.shape[1]):\n",
        "    # use_column = [ndx != i for ndx in range(x_train.shape[1])]\n",
        "    # for j in range(x_train.shape[1]):\n",
        "    #   print(use_column[j])\n",
        "    #   if(use_column[j]=='False'):\n",
        "    # use_column = [ndx != i for ndx in range(x_train_arr.shape[1])]\n",
        "    # print(use_column[1])\n",
        "    # if(use_column[j] == 'False'):\n",
        "    scores.append(model_score(x_train_arr[:, i:i+1],np.asarray(y_train),x_test_arr[:, i:i+1],np.asarray(y_test)))"
      ]
    },
    {
      "cell_type": "code",
      "execution_count": null,
      "metadata": {
        "colab": {
          "base_uri": "https://localhost:8080/"
        },
        "id": "EaZ_HAHbgoQy",
        "outputId": "1ee3a0c0-6338-49f2-ad46-30e0ec15ce9f"
      },
      "outputs": [
        {
          "output_type": "execute_result",
          "data": {
            "text/plain": [
              "[9.044978874053708,\n",
              " 9.010911865730916,\n",
              " 9.035990061034907,\n",
              " 8.99514458216295,\n",
              " 9.109446721361987,\n",
              " 8.917660729267974,\n",
              " 8.511391334726163,\n",
              " 9.029166358427448,\n",
              " 9.117931567032969,\n",
              " 8.921407245892823,\n",
              " 8.93740037693995]"
            ]
          },
          "metadata": {},
          "execution_count": 27
        }
      ],
      "source": [
        "scores"
      ]
    },
    {
      "cell_type": "code",
      "execution_count": null,
      "metadata": {
        "id": "FLQhJc7GgLyT",
        "colab": {
          "base_uri": "https://localhost:8080/"
        },
        "outputId": "6c8c1f17-3806-47d5-a13e-45e24f4ea973"
      },
      "outputs": [
        {
          "output_type": "execute_result",
          "data": {
            "text/plain": [
              "[(6, 0.005175803509503751),\n",
              " (5, -0.401093591032307),\n",
              " (9, -0.40484010765715617),\n",
              " (10, -0.420833238704283),\n",
              " (3, -0.47857744392728385)]"
            ]
          },
          "metadata": {},
          "execution_count": 28
        }
      ],
      "source": [
        "sorted(enumerate([actual_score - s for s in scores]), key=lambda ndx_score: ndx_score[1], reverse=True)[:5]"
      ]
    },
    {
      "cell_type": "code",
      "source": [
        "# dic[0][0]"
      ],
      "metadata": {
        "id": "ZqaWR8ntX-8L"
      },
      "execution_count": null,
      "outputs": []
    },
    {
      "cell_type": "code",
      "source": [
        "# new_X_train = np.array([])\n",
        "# new_X_test = np.array([])\n",
        "# for i in range(len(dic)):\n",
        "#   j = dic[i][0]\n",
        "#   print(j)\n",
        "#   new_X_train = np.hstack((new_X_train,x_train_arr[:,j:j+1]))\n",
        "#   new_X_test = np.hstack((new_X_test,x_train_arr[:,j:j+1]))"
      ],
      "metadata": {
        "id": "SNm8F5xVXjBG"
      },
      "execution_count": null,
      "outputs": []
    },
    {
      "cell_type": "code",
      "source": [
        "new_x_train = np.hstack((x_train_arr[:,6:7],x_train_arr[:,5:6],x_train_arr[:,9:10],x_train_arr[:,10:11],x_train_arr[:,3:4]))\n",
        "new_x_test = np.hstack((x_test_arr[:,6:7],x_test_arr[:,5:6],x_test_arr[:,9:10],x_test_arr[:,10:11],x_test_arr[:,3:4]))"
      ],
      "metadata": {
        "id": "1esyvM1XR73k"
      },
      "execution_count": null,
      "outputs": []
    },
    {
      "cell_type": "code",
      "source": [
        "# new_X_train"
      ],
      "metadata": {
        "id": "BCnvcpKtT8Sq"
      },
      "execution_count": null,
      "outputs": []
    },
    {
      "cell_type": "code",
      "source": [
        "actual_score_new_train = model_score(new_x_train, y_train, new_x_train, y_train)\n",
        "actual_score_new_train"
      ],
      "metadata": {
        "id": "6aSKg1VFaJ3c",
        "colab": {
          "base_uri": "https://localhost:8080/"
        },
        "outputId": "b2bf96bd-b658-42a5-bd33-56ccc181b843"
      },
      "execution_count": null,
      "outputs": [
        {
          "output_type": "execute_result",
          "data": {
            "text/plain": [
              "8.424698837963945"
            ]
          },
          "metadata": {},
          "execution_count": 34
        }
      ]
    },
    {
      "cell_type": "code",
      "source": [
        "print('New Training Accuracy after ablation is - '+str(actual_score_new_train))"
      ],
      "metadata": {
        "colab": {
          "base_uri": "https://localhost:8080/"
        },
        "id": "9ScWpzswacaD",
        "outputId": "29232762-32d4-44cd-eaef-fe11957bb246"
      },
      "execution_count": null,
      "outputs": [
        {
          "output_type": "stream",
          "name": "stdout",
          "text": [
            "New Training Accuracy after ablation is - 8.424698837963945\n"
          ]
        }
      ]
    },
    {
      "cell_type": "code",
      "source": [
        "actual_score_new_test = model_score(new_x_train, y_train, new_x_test, y_test)"
      ],
      "metadata": {
        "id": "u1jtLeCKT10G"
      },
      "execution_count": null,
      "outputs": []
    },
    {
      "cell_type": "code",
      "source": [
        "print('New Testing Accuracy after ablation is - '+str(actual_score_new_test))"
      ],
      "metadata": {
        "colab": {
          "base_uri": "https://localhost:8080/"
        },
        "id": "l2Y0OBkJUWLk",
        "outputId": "01151ce8-c4a7-48dd-87ef-42031e1d4d02"
      },
      "execution_count": null,
      "outputs": [
        {
          "output_type": "stream",
          "name": "stdout",
          "text": [
            "New Testing Accuracy after ablation is - 8.470993490676369\n"
          ]
        }
      ]
    }
  ],
  "metadata": {
    "colab": {
      "name": "ML-Project(Ablation).ipynb",
      "provenance": [],
      "collapsed_sections": []
    },
    "kernelspec": {
      "display_name": "Python 3",
      "name": "python3"
    },
    "language_info": {
      "name": "python"
    }
  },
  "nbformat": 4,
  "nbformat_minor": 0
}